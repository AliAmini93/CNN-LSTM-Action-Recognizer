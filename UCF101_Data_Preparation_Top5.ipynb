{
  "nbformat": 4,
  "nbformat_minor": 0,
  "metadata": {
    "kernelspec": {
      "display_name": "Python 3",
      "language": "python",
      "name": "python3"
    },
    "language_info": {
      "codemirror_mode": {
        "name": "ipython",
        "version": 3
      },
      "file_extension": ".py",
      "mimetype": "text/x-python",
      "name": "python",
      "nbconvert_exporter": "python",
      "pygments_lexer": "ipython3",
      "version": "3.5.3"
    },
    "colab": {
      "name": "Data_Preparation_UCF101.ipynb",
      "provenance": []
    }
  },
  "cells": [
    {
      "cell_type": "markdown",
      "metadata": {
        "id": "PYgy38H_-WdA"
      },
      "source": [
        "## Collect Data"
      ]
    },
    {
      "cell_type": "code",
      "metadata": {
        "id": "oKxtdcjgjuy2"
      },
      "source": [
        "!wget -q --no-check-certificate https://www.crcv.ucf.edu/data/UCF101/UCF101.rar\n",
        "!wget -q --no-check-certificate https://www.crcv.ucf.edu/data/UCF101/UCF101TrainTestSplits-RecognitionTask.zip"
      ],
      "execution_count": null,
      "outputs": []
    },
    {
      "cell_type": "code",
      "metadata": {
        "id": "LZGjbGEUlIwc"
      },
      "source": [
        "%%capture\n",
        "!unrar e UCF101.rar data/\n",
        "!unzip -qq UCF101TrainTestSplits-RecognitionTask.zip"
      ],
      "execution_count": null,
      "outputs": []
    },
    {
      "cell_type": "markdown",
      "metadata": {
        "id": "qtHh7Q9o-YdY"
      },
      "source": [
        "## Imports"
      ]
    },
    {
      "cell_type": "code",
      "metadata": {
        "id": "KqTOScR1i7UP"
      },
      "source": [
        "from imutils import paths\n",
        "from tqdm import tqdm\n",
        "import pandas as pd\n",
        "import numpy as np\n",
        "import shutil\n",
        "import cv2\n",
        "import os"
      ],
      "execution_count": null,
      "outputs": []
    },
    {
      "cell_type": "markdown",
      "metadata": {
        "id": "gRlcc2Ph-arE"
      },
      "source": [
        "## Metadata Loading"
      ]
    },
    {
      "cell_type": "code",
      "metadata": {
        "id": "_rzBFXN4i7UR",
        "colab": {
          "base_uri": "https://localhost:8080/",
          "height": 204
        },
        "outputId": "6877e904-d3ba-45af-e782-7411e573a757"
      },
      "source": [
        "# Open the .txt file which have names of training videos\n",
        "f = open(\"ucfTrainTestlist/trainlist01.txt\", \"r\")\n",
        "temp = f.read()\n",
        "videos = temp.split('\\n')\n",
        "\n",
        "# Create a dataframe having video names\n",
        "train = pd.DataFrame()\n",
        "train['video_name'] = videos\n",
        "train = train[:-1]\n",
        "train.head()"
      ],
      "execution_count": null,
      "outputs": [
        {
          "output_type": "execute_result",
          "data": {
            "text/html": [
              "<div>\n",
              "<style scoped>\n",
              "    .dataframe tbody tr th:only-of-type {\n",
              "        vertical-align: middle;\n",
              "    }\n",
              "\n",
              "    .dataframe tbody tr th {\n",
              "        vertical-align: top;\n",
              "    }\n",
              "\n",
              "    .dataframe thead th {\n",
              "        text-align: right;\n",
              "    }\n",
              "</style>\n",
              "<table border=\"1\" class=\"dataframe\">\n",
              "  <thead>\n",
              "    <tr style=\"text-align: right;\">\n",
              "      <th></th>\n",
              "      <th>video_name</th>\n",
              "    </tr>\n",
              "  </thead>\n",
              "  <tbody>\n",
              "    <tr>\n",
              "      <th>0</th>\n",
              "      <td>ApplyEyeMakeup/v_ApplyEyeMakeup_g08_c01.avi 1</td>\n",
              "    </tr>\n",
              "    <tr>\n",
              "      <th>1</th>\n",
              "      <td>ApplyEyeMakeup/v_ApplyEyeMakeup_g08_c02.avi 1</td>\n",
              "    </tr>\n",
              "    <tr>\n",
              "      <th>2</th>\n",
              "      <td>ApplyEyeMakeup/v_ApplyEyeMakeup_g08_c03.avi 1</td>\n",
              "    </tr>\n",
              "    <tr>\n",
              "      <th>3</th>\n",
              "      <td>ApplyEyeMakeup/v_ApplyEyeMakeup_g08_c04.avi 1</td>\n",
              "    </tr>\n",
              "    <tr>\n",
              "      <th>4</th>\n",
              "      <td>ApplyEyeMakeup/v_ApplyEyeMakeup_g08_c05.avi 1</td>\n",
              "    </tr>\n",
              "  </tbody>\n",
              "</table>\n",
              "</div>"
            ],
            "text/plain": [
              "                                      video_name\n",
              "0  ApplyEyeMakeup/v_ApplyEyeMakeup_g08_c01.avi 1\n",
              "1  ApplyEyeMakeup/v_ApplyEyeMakeup_g08_c02.avi 1\n",
              "2  ApplyEyeMakeup/v_ApplyEyeMakeup_g08_c03.avi 1\n",
              "3  ApplyEyeMakeup/v_ApplyEyeMakeup_g08_c04.avi 1\n",
              "4  ApplyEyeMakeup/v_ApplyEyeMakeup_g08_c05.avi 1"
            ]
          },
          "metadata": {
            "tags": []
          },
          "execution_count": 4
        }
      ]
    },
    {
      "cell_type": "code",
      "metadata": {
        "id": "WLhPitHyi7US",
        "colab": {
          "base_uri": "https://localhost:8080/",
          "height": 204
        },
        "outputId": "8c663359-b1ac-44d7-a59c-51fd74fffb79"
      },
      "source": [
        "# Open the .txt file which have names of test videos\n",
        "with open(\"ucfTrainTestlist/testlist01.txt\", \"r\") as f:\n",
        "    temp = f.read()\n",
        "videos = temp.split(\"\\n\")\n",
        "\n",
        "# Create a dataframe having video names\n",
        "test = pd.DataFrame()\n",
        "test[\"video_name\"] = videos\n",
        "test = test[:-1]\n",
        "test.head()"
      ],
      "execution_count": null,
      "outputs": [
        {
          "output_type": "execute_result",
          "data": {
            "text/html": [
              "<div>\n",
              "<style scoped>\n",
              "    .dataframe tbody tr th:only-of-type {\n",
              "        vertical-align: middle;\n",
              "    }\n",
              "\n",
              "    .dataframe tbody tr th {\n",
              "        vertical-align: top;\n",
              "    }\n",
              "\n",
              "    .dataframe thead th {\n",
              "        text-align: right;\n",
              "    }\n",
              "</style>\n",
              "<table border=\"1\" class=\"dataframe\">\n",
              "  <thead>\n",
              "    <tr style=\"text-align: right;\">\n",
              "      <th></th>\n",
              "      <th>video_name</th>\n",
              "    </tr>\n",
              "  </thead>\n",
              "  <tbody>\n",
              "    <tr>\n",
              "      <th>0</th>\n",
              "      <td>ApplyEyeMakeup/v_ApplyEyeMakeup_g01_c01.avi</td>\n",
              "    </tr>\n",
              "    <tr>\n",
              "      <th>1</th>\n",
              "      <td>ApplyEyeMakeup/v_ApplyEyeMakeup_g01_c02.avi</td>\n",
              "    </tr>\n",
              "    <tr>\n",
              "      <th>2</th>\n",
              "      <td>ApplyEyeMakeup/v_ApplyEyeMakeup_g01_c03.avi</td>\n",
              "    </tr>\n",
              "    <tr>\n",
              "      <th>3</th>\n",
              "      <td>ApplyEyeMakeup/v_ApplyEyeMakeup_g01_c04.avi</td>\n",
              "    </tr>\n",
              "    <tr>\n",
              "      <th>4</th>\n",
              "      <td>ApplyEyeMakeup/v_ApplyEyeMakeup_g01_c05.avi</td>\n",
              "    </tr>\n",
              "  </tbody>\n",
              "</table>\n",
              "</div>"
            ],
            "text/plain": [
              "                                    video_name\n",
              "0  ApplyEyeMakeup/v_ApplyEyeMakeup_g01_c01.avi\n",
              "1  ApplyEyeMakeup/v_ApplyEyeMakeup_g01_c02.avi\n",
              "2  ApplyEyeMakeup/v_ApplyEyeMakeup_g01_c03.avi\n",
              "3  ApplyEyeMakeup/v_ApplyEyeMakeup_g01_c04.avi\n",
              "4  ApplyEyeMakeup/v_ApplyEyeMakeup_g01_c05.avi"
            ]
          },
          "metadata": {
            "tags": []
          },
          "execution_count": 5
        }
      ]
    },
    {
      "cell_type": "markdown",
      "metadata": {
        "id": "v7wK62Oi-lSk"
      },
      "source": [
        "## Utility Functions"
      ]
    },
    {
      "cell_type": "code",
      "metadata": {
        "id": "xCrOOcY_i7US"
      },
      "source": [
        "def extract_tag(video_path):\n",
        "    return video_path.split(\"/\")[0]\n",
        "\n",
        "def separate_video_name(video_name):\n",
        "    return video_name.split(\"/\")[1]\n",
        "\n",
        "def rectify_video_name(video_name):\n",
        "    return video_name.split(\" \")[0]\n",
        "\n",
        "def move_videos(df, output_dir):\n",
        "    if not os.path.exists(output_dir):\n",
        "        os.mkdir(output_dir)\n",
        "    for i in tqdm(range(df.shape[0])):\n",
        "        videoFile = df['video_name'][i].split(\"/\")[-1]\n",
        "        videoPath = os.path.join(\"data\", videoFile)\n",
        "        shutil.copy2(videoPath, output_dir)\n",
        "    print()\n",
        "    print(f\"Total videos: {len(os.listdir(output_dir))}\")"
      ],
      "execution_count": null,
      "outputs": []
    },
    {
      "cell_type": "markdown",
      "metadata": {
        "id": "OtyGiF7L-nnr"
      },
      "source": [
        "## DataFrame Preparation"
      ]
    },
    {
      "cell_type": "code",
      "metadata": {
        "id": "v-lNa682i7US",
        "colab": {
          "base_uri": "https://localhost:8080/",
          "height": 204
        },
        "outputId": "49636796-ea5f-445c-f014-1b79c9dd534e"
      },
      "source": [
        "train[\"tag\"] = train[\"video_name\"].apply(extract_tag)\n",
        "train[\"video_name\"] = train[\"video_name\"].apply(separate_video_name)\n",
        "train.head()"
      ],
      "execution_count": null,
      "outputs": [
        {
          "output_type": "execute_result",
          "data": {
            "text/html": [
              "<div>\n",
              "<style scoped>\n",
              "    .dataframe tbody tr th:only-of-type {\n",
              "        vertical-align: middle;\n",
              "    }\n",
              "\n",
              "    .dataframe tbody tr th {\n",
              "        vertical-align: top;\n",
              "    }\n",
              "\n",
              "    .dataframe thead th {\n",
              "        text-align: right;\n",
              "    }\n",
              "</style>\n",
              "<table border=\"1\" class=\"dataframe\">\n",
              "  <thead>\n",
              "    <tr style=\"text-align: right;\">\n",
              "      <th></th>\n",
              "      <th>video_name</th>\n",
              "      <th>tag</th>\n",
              "    </tr>\n",
              "  </thead>\n",
              "  <tbody>\n",
              "    <tr>\n",
              "      <th>0</th>\n",
              "      <td>v_ApplyEyeMakeup_g08_c01.avi 1</td>\n",
              "      <td>ApplyEyeMakeup</td>\n",
              "    </tr>\n",
              "    <tr>\n",
              "      <th>1</th>\n",
              "      <td>v_ApplyEyeMakeup_g08_c02.avi 1</td>\n",
              "      <td>ApplyEyeMakeup</td>\n",
              "    </tr>\n",
              "    <tr>\n",
              "      <th>2</th>\n",
              "      <td>v_ApplyEyeMakeup_g08_c03.avi 1</td>\n",
              "      <td>ApplyEyeMakeup</td>\n",
              "    </tr>\n",
              "    <tr>\n",
              "      <th>3</th>\n",
              "      <td>v_ApplyEyeMakeup_g08_c04.avi 1</td>\n",
              "      <td>ApplyEyeMakeup</td>\n",
              "    </tr>\n",
              "    <tr>\n",
              "      <th>4</th>\n",
              "      <td>v_ApplyEyeMakeup_g08_c05.avi 1</td>\n",
              "      <td>ApplyEyeMakeup</td>\n",
              "    </tr>\n",
              "  </tbody>\n",
              "</table>\n",
              "</div>"
            ],
            "text/plain": [
              "                       video_name             tag\n",
              "0  v_ApplyEyeMakeup_g08_c01.avi 1  ApplyEyeMakeup\n",
              "1  v_ApplyEyeMakeup_g08_c02.avi 1  ApplyEyeMakeup\n",
              "2  v_ApplyEyeMakeup_g08_c03.avi 1  ApplyEyeMakeup\n",
              "3  v_ApplyEyeMakeup_g08_c04.avi 1  ApplyEyeMakeup\n",
              "4  v_ApplyEyeMakeup_g08_c05.avi 1  ApplyEyeMakeup"
            ]
          },
          "metadata": {
            "tags": []
          },
          "execution_count": 7
        }
      ]
    },
    {
      "cell_type": "code",
      "metadata": {
        "id": "nVhz28EIi7UT",
        "colab": {
          "base_uri": "https://localhost:8080/",
          "height": 204
        },
        "outputId": "7024466d-479f-447e-d47c-d65679192e19"
      },
      "source": [
        "train[\"video_name\"] = train[\"video_name\"].apply(rectify_video_name)\n",
        "train.head()"
      ],
      "execution_count": null,
      "outputs": [
        {
          "output_type": "execute_result",
          "data": {
            "text/html": [
              "<div>\n",
              "<style scoped>\n",
              "    .dataframe tbody tr th:only-of-type {\n",
              "        vertical-align: middle;\n",
              "    }\n",
              "\n",
              "    .dataframe tbody tr th {\n",
              "        vertical-align: top;\n",
              "    }\n",
              "\n",
              "    .dataframe thead th {\n",
              "        text-align: right;\n",
              "    }\n",
              "</style>\n",
              "<table border=\"1\" class=\"dataframe\">\n",
              "  <thead>\n",
              "    <tr style=\"text-align: right;\">\n",
              "      <th></th>\n",
              "      <th>video_name</th>\n",
              "      <th>tag</th>\n",
              "    </tr>\n",
              "  </thead>\n",
              "  <tbody>\n",
              "    <tr>\n",
              "      <th>0</th>\n",
              "      <td>v_ApplyEyeMakeup_g08_c01.avi</td>\n",
              "      <td>ApplyEyeMakeup</td>\n",
              "    </tr>\n",
              "    <tr>\n",
              "      <th>1</th>\n",
              "      <td>v_ApplyEyeMakeup_g08_c02.avi</td>\n",
              "      <td>ApplyEyeMakeup</td>\n",
              "    </tr>\n",
              "    <tr>\n",
              "      <th>2</th>\n",
              "      <td>v_ApplyEyeMakeup_g08_c03.avi</td>\n",
              "      <td>ApplyEyeMakeup</td>\n",
              "    </tr>\n",
              "    <tr>\n",
              "      <th>3</th>\n",
              "      <td>v_ApplyEyeMakeup_g08_c04.avi</td>\n",
              "      <td>ApplyEyeMakeup</td>\n",
              "    </tr>\n",
              "    <tr>\n",
              "      <th>4</th>\n",
              "      <td>v_ApplyEyeMakeup_g08_c05.avi</td>\n",
              "      <td>ApplyEyeMakeup</td>\n",
              "    </tr>\n",
              "  </tbody>\n",
              "</table>\n",
              "</div>"
            ],
            "text/plain": [
              "                     video_name             tag\n",
              "0  v_ApplyEyeMakeup_g08_c01.avi  ApplyEyeMakeup\n",
              "1  v_ApplyEyeMakeup_g08_c02.avi  ApplyEyeMakeup\n",
              "2  v_ApplyEyeMakeup_g08_c03.avi  ApplyEyeMakeup\n",
              "3  v_ApplyEyeMakeup_g08_c04.avi  ApplyEyeMakeup\n",
              "4  v_ApplyEyeMakeup_g08_c05.avi  ApplyEyeMakeup"
            ]
          },
          "metadata": {
            "tags": []
          },
          "execution_count": 8
        }
      ]
    },
    {
      "cell_type": "code",
      "metadata": {
        "id": "5QnYrt_xi7UT",
        "colab": {
          "base_uri": "https://localhost:8080/",
          "height": 204
        },
        "outputId": "bd1e1784-a722-4b39-c26b-9641eb44839e"
      },
      "source": [
        "test[\"tag\"] = test[\"video_name\"].apply(extract_tag)\n",
        "test[\"video_name\"] = test[\"video_name\"].apply(separate_video_name)\n",
        "test.head()"
      ],
      "execution_count": null,
      "outputs": [
        {
          "output_type": "execute_result",
          "data": {
            "text/html": [
              "<div>\n",
              "<style scoped>\n",
              "    .dataframe tbody tr th:only-of-type {\n",
              "        vertical-align: middle;\n",
              "    }\n",
              "\n",
              "    .dataframe tbody tr th {\n",
              "        vertical-align: top;\n",
              "    }\n",
              "\n",
              "    .dataframe thead th {\n",
              "        text-align: right;\n",
              "    }\n",
              "</style>\n",
              "<table border=\"1\" class=\"dataframe\">\n",
              "  <thead>\n",
              "    <tr style=\"text-align: right;\">\n",
              "      <th></th>\n",
              "      <th>video_name</th>\n",
              "      <th>tag</th>\n",
              "    </tr>\n",
              "  </thead>\n",
              "  <tbody>\n",
              "    <tr>\n",
              "      <th>0</th>\n",
              "      <td>v_ApplyEyeMakeup_g01_c01.avi</td>\n",
              "      <td>ApplyEyeMakeup</td>\n",
              "    </tr>\n",
              "    <tr>\n",
              "      <th>1</th>\n",
              "      <td>v_ApplyEyeMakeup_g01_c02.avi</td>\n",
              "      <td>ApplyEyeMakeup</td>\n",
              "    </tr>\n",
              "    <tr>\n",
              "      <th>2</th>\n",
              "      <td>v_ApplyEyeMakeup_g01_c03.avi</td>\n",
              "      <td>ApplyEyeMakeup</td>\n",
              "    </tr>\n",
              "    <tr>\n",
              "      <th>3</th>\n",
              "      <td>v_ApplyEyeMakeup_g01_c04.avi</td>\n",
              "      <td>ApplyEyeMakeup</td>\n",
              "    </tr>\n",
              "    <tr>\n",
              "      <th>4</th>\n",
              "      <td>v_ApplyEyeMakeup_g01_c05.avi</td>\n",
              "      <td>ApplyEyeMakeup</td>\n",
              "    </tr>\n",
              "  </tbody>\n",
              "</table>\n",
              "</div>"
            ],
            "text/plain": [
              "                     video_name             tag\n",
              "0  v_ApplyEyeMakeup_g01_c01.avi  ApplyEyeMakeup\n",
              "1  v_ApplyEyeMakeup_g01_c02.avi  ApplyEyeMakeup\n",
              "2  v_ApplyEyeMakeup_g01_c03.avi  ApplyEyeMakeup\n",
              "3  v_ApplyEyeMakeup_g01_c04.avi  ApplyEyeMakeup\n",
              "4  v_ApplyEyeMakeup_g01_c05.avi  ApplyEyeMakeup"
            ]
          },
          "metadata": {
            "tags": []
          },
          "execution_count": 9
        }
      ]
    },
    {
      "cell_type": "markdown",
      "metadata": {
        "id": "dKo0rwC5-qa5"
      },
      "source": [
        "## Filtering Top-n Actions"
      ]
    },
    {
      "cell_type": "code",
      "metadata": {
        "id": "C0Cipx6Wi7UT",
        "colab": {
          "base_uri": "https://localhost:8080/"
        },
        "outputId": "92cbfe45-4d64-422f-d846-f88151e63225"
      },
      "source": [
        "n = 10\n",
        "topNActs = train[\"tag\"].value_counts().nlargest(n).reset_index()[\"index\"].tolist()\n",
        "train_new = train[train[\"tag\"].isin(topNActs)]\n",
        "test_new = test[test[\"tag\"].isin(topNActs)]\n",
        "train_new.shape, test_new.shape"
      ],
      "execution_count": null,
      "outputs": [
        {
          "output_type": "execute_result",
          "data": {
            "text/plain": [
              "((1171, 2), (459, 2))"
            ]
          },
          "metadata": {
            "tags": []
          },
          "execution_count": 10
        }
      ]
    },
    {
      "cell_type": "code",
      "metadata": {
        "id": "0HeihX0_i7UU"
      },
      "source": [
        "train_new = train_new.reset_index(drop=True)\n",
        "test_new = test_new.reset_index(drop=True)"
      ],
      "execution_count": null,
      "outputs": []
    },
    {
      "cell_type": "markdown",
      "metadata": {
        "id": "Q0BtXtt8-vMU"
      },
      "source": [
        "## Move Top-n Action Videos"
      ]
    },
    {
      "cell_type": "code",
      "metadata": {
        "id": "5vjduxM_xEoB",
        "colab": {
          "base_uri": "https://localhost:8080/"
        },
        "outputId": "cea7dba5-164e-4d7f-e743-70a33a4db5dc"
      },
      "source": [
        "move_videos(train_new, \"train\")\n",
        "move_videos(test_new, \"test\")"
      ],
      "execution_count": null,
      "outputs": [
        {
          "output_type": "stream",
          "text": [
            "100%|██████████| 1171/1171 [00:09<00:00, 127.50it/s]\n",
            "  3%|▎         | 14/459 [00:00<00:03, 137.80it/s]"
          ],
          "name": "stderr"
        },
        {
          "output_type": "stream",
          "text": [
            "\n",
            "Total videos: 1171\n"
          ],
          "name": "stdout"
        },
        {
          "output_type": "stream",
          "text": [
            "100%|██████████| 459/459 [00:03<00:00, 143.96it/s]"
          ],
          "name": "stderr"
        },
        {
          "output_type": "stream",
          "text": [
            "\n",
            "Total videos: 459\n"
          ],
          "name": "stdout"
        },
        {
          "output_type": "stream",
          "text": [
            "\n"
          ],
          "name": "stderr"
        }
      ]
    },
    {
      "cell_type": "code",
      "metadata": {
        "id": "7_9w-5ArxWuc"
      },
      "source": [
        "train_new.to_csv(\"train.csv\", index=False)\n",
        "test_new.to_csv(\"test.csv\", index=False)"
      ],
      "execution_count": null,
      "outputs": []
    },
    {
      "cell_type": "markdown",
      "metadata": {
        "id": "_qbrwlIX-xqJ"
      },
      "source": [
        "## Serialization"
      ]
    },
    {
      "cell_type": "code",
      "metadata": {
        "id": "7GUzA8d1xxJR"
      },
      "source": [
        "!tar cf ucf101_top10.tar.gz train test train.csv test.csv"
      ],
      "execution_count": null,
      "outputs": []
    },
    {
      "cell_type": "code",
      "metadata": {
        "id": "aagZH1iLx99b",
        "colab": {
          "base_uri": "https://localhost:8080/"
        },
        "outputId": "5429c06f-e970-4b4e-a2ad-be030ea8a2d3"
      },
      "source": [
        "from google.colab import drive\n",
        "drive.mount('/content/drive')"
      ],
      "execution_count": null,
      "outputs": [
        {
          "output_type": "stream",
          "text": [
            "Mounted at /content/drive\n"
          ],
          "name": "stdout"
        }
      ]
    },
    {
      "cell_type": "code",
      "metadata": {
        "id": "vjFRFB2Dx_aO"
      },
      "source": [
        "!cp ucf101_top10.tar.gz /content/drive/MyDrive"
      ],
      "execution_count": null,
      "outputs": []
    }
  ]
}